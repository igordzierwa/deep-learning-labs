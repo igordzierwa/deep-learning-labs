{
 "cells": [
  {
   "cell_type": "markdown",
   "id": "c0fa3a55",
   "metadata": {},
   "source": [
    "## Author: Igor Dzierwa\n",
    "## Laboratory 5 - Classification with Keras\n",
    "\n",
    "We have a datasetofmovie reviews from the Internet Movie Database (IMDB). IMDB dataset has 50K movie reviews for natural language processing or Text analytics. This is a dataset for binary sentiment classification.\n",
    "- The dataset contains a review and a sentiment which is “positive” or “negative”.\n",
    "\n",
    "- This dataset comes packaged with Keras, so you just load the dataset. Keep 10000 most frequent words (how?).\n",
    "\n",
    "- It has already been preprocessed: the reviews (sequences of words) have been turned into sequences of integers, where each integer stands for a specific word in a dictionary.\n",
    "\n",
    "\n",
    "Data preparation:\n",
    "\n",
    "- Then encode the integer sequences into a binary matrix.\n",
    "\n",
    "- To do this you can one-hot encodeyour lists to turn them into vectors of 0s and 1s. This would mean, for instance, turning the sequence [3, 5] into a 10,000-dimensional vector that would be all 0s  except  for  indices  3  and  5,  which  would  be  1s.  Then  you  could  use  as  the  first  layer  in  your network a Dense layer, capable of handling floating-point vector data.\n",
    "\n",
    "Build a network with, compile and train it on IMDB.\n",
    "- Two hidden layers with 16 units each with relu activation function.\n",
    "- Output layer that will output the prediction with sigmoid activation function."
   ]
  },
  {
   "cell_type": "markdown",
   "id": "295b625b",
   "metadata": {},
   "source": [
    "### Libraries import"
   ]
  },
  {
   "cell_type": "code",
   "execution_count": 11,
   "id": "92568ea4",
   "metadata": {},
   "outputs": [],
   "source": [
    "import warnings\n",
    "import numpy as np\n",
    "import matplotlib.pyplot as plt\n",
    "import tensorflow as tf\n",
    "from keras.models import Sequential\n",
    "from keras.layers import Dense, Dropout\n",
    "from keras.regularizers import l1\n",
    "from keras.datasets import imdb\n",
    "from keras.preprocessing.text import Tokenizer\n",
    "\n",
    "tf.get_logger().setLevel('INFO')\n",
    "warnings.filterwarnings('ignore')"
   ]
  },
  {
   "cell_type": "markdown",
   "id": "01855437",
   "metadata": {},
   "source": [
    "### Data import\n",
    "\n",
    "**Function** `imdb.load_data()` - this is a dataset of 25 000 movies reviews from IMDB, labeled by sentiment (positive/negative)."
   ]
  },
  {
   "cell_type": "code",
   "execution_count": 12,
   "id": "b3e71182",
   "metadata": {},
   "outputs": [],
   "source": [
    "(x_train, y_train), (x_test, y_test) = imdb.load_data()"
   ]
  },
  {
   "cell_type": "code",
   "execution_count": 13,
   "id": "7d7cfbd1",
   "metadata": {},
   "outputs": [
    {
     "name": "stdout",
     "output_type": "stream",
     "text": [
      "X train shape: (25000,)\n",
      "Y train shape: (25000,)\n",
      "\n",
      "X test shape: (25000,)\n",
      "Y test shape: (25000,)\n",
      "\n"
     ]
    }
   ],
   "source": [
    "print(f\"X train shape: {x_train.shape}\")\n",
    "print(f\"Y train shape: {y_train.shape}\\n\")\n",
    "\n",
    "print(f\"X test shape: {x_test.shape}\")\n",
    "print(f\"Y test shape: {y_test.shape}\\n\")"
   ]
  },
  {
   "cell_type": "markdown",
   "id": "2b4dd186",
   "metadata": {},
   "source": [
    "### Data preparation\n",
    "\n",
    "**Class** `Tokenizer` - allows to vectorize a text corpus, by turning each text into either a sequence of integers or into a vector where the coefficient for each token could be binary.\n",
    "\n",
    "- `num_words` parameter - the maximum number of words to keep, based on word frequency.\n",
    "\n",
    "**Function** `sequences_to_matrix` - converts a list of sequences into a Numpy matrix. \n",
    "\n",
    "- available modes - \"binary\", \"count\", \"tfidf\", \"freq\""
   ]
  },
  {
   "cell_type": "code",
   "execution_count": 14,
   "id": "4161bb38",
   "metadata": {},
   "outputs": [
    {
     "name": "stdout",
     "output_type": "stream",
     "text": [
      "X train shape: (25000, 10000)\n",
      "X test shape: (25000, 10000)\n"
     ]
    }
   ],
   "source": [
    "tokenizer = Tokenizer(num_words=10000)\n",
    "x_train = tokenizer.sequences_to_matrix(x_train, mode='binary')\n",
    "x_test = tokenizer.sequences_to_matrix(x_test, mode='binary')\n",
    "\n",
    "print(f\"X train shape: {x_train.shape}\")\n",
    "print(f\"X test shape: {x_test.shape}\")"
   ]
  },
  {
   "cell_type": "markdown",
   "id": "787dbd72",
   "metadata": {},
   "source": [
    "### Setting a validation data\n",
    "\n",
    "**Validation data** - 10 000 instances.\n",
    "- Data will be passed as the validation_data argument in `fit()` function. At the end of each epoch, the model will iterate over the validation dataset and compute the validation loss and validation metrics.\n"
   ]
  },
  {
   "cell_type": "code",
   "execution_count": 15,
   "id": "a48afcfd",
   "metadata": {},
   "outputs": [
    {
     "name": "stdout",
     "output_type": "stream",
     "text": [
      "Partial X train shape: (15000, 10000)\n",
      "Partial Y train shape: (15000,)\n",
      "\n",
      "Validation X train shape: (10000, 10000)\n",
      "Validation Y train shape: (10000,)\n"
     ]
    }
   ],
   "source": [
    "part_x_train = x_train[10000:]\n",
    "part_y_train = y_train[10000:]\n",
    "\n",
    "val_x_train = x_train[:10000]\n",
    "val_y_train = y_train[:10000]\n",
    "\n",
    "print(f\"Partial X train shape: {part_x_train.shape}\")\n",
    "print(f\"Partial Y train shape: {part_y_train.shape}\\n\")\n",
    "\n",
    "print(f\"Validation X train shape: {val_x_train.shape}\")\n",
    "print(f\"Validation Y train shape: {val_y_train.shape}\")"
   ]
  },
  {
   "cell_type": "markdown",
   "id": "bd4370ea",
   "metadata": {},
   "source": [
    "### Neural network model\n",
    "\n",
    "**Two hidden layers** with 16 units each.\n",
    "- *relu* activation function.\n",
    "\n",
    "**One output layer** that will output the prediction.\n",
    "- *sigmoid* activation function.\n",
    "\n",
    "**Two Dropout regularization layers** after each hidden layer.\n",
    "\n",
    "- Dropout layer randomly sets input units to 0 with a frequency of rate at each step during training time, which helps prevent overfitting. Inputs not set to 0 are scaled up by 1/(1 - rate) such that the sum over all inputs is unchanged."
   ]
  },
  {
   "cell_type": "code",
   "execution_count": 16,
   "id": "636d2a3e",
   "metadata": {},
   "outputs": [],
   "source": [
    "model = Sequential()\n",
    "model.add(Dense(16, activation=\"relu\", input_shape=(10000,)))\n",
    "model.add(Dropout(0.5))\n",
    "model.add(Dense(16, activation=\"relu\", input_shape=(10000,)))\n",
    "model.add(Dropout(0.5))\n",
    "model.add(Dense(1, activation=\"sigmoid\"))"
   ]
  },
  {
   "cell_type": "markdown",
   "id": "675887fa",
   "metadata": {},
   "source": [
    "### Training neural network model"
   ]
  },
  {
   "cell_type": "markdown",
   "id": "abde917d",
   "metadata": {},
   "source": [
    "#### Model compile\n",
    "\n",
    "Config the model with losses and metrics:\n",
    "\n",
    "- Loss function - *Binary Cross-Entropy*\n",
    "- Metrics - *Accuracy*"
   ]
  },
  {
   "cell_type": "code",
   "execution_count": 17,
   "id": "27bfe5a7",
   "metadata": {},
   "outputs": [],
   "source": [
    "compile_data = {\n",
    "    \"loss\": \"binary_crossentropy\",\n",
    "    \"metrics\": [\"acc\"]\n",
    "}\n",
    "\n",
    "model.compile(**compile_data)"
   ]
  },
  {
   "cell_type": "markdown",
   "id": "281bc9b9",
   "metadata": {},
   "source": [
    "#### Model fit\n",
    "\n",
    "Trains the model for a fixed number of epochs (iterations on a dataset)."
   ]
  },
  {
   "cell_type": "code",
   "execution_count": 18,
   "id": "8ecb655a",
   "metadata": {},
   "outputs": [
    {
     "name": "stdout",
     "output_type": "stream",
     "text": [
      "Epoch 1/7\n",
      "30/30 [==============================] - 1s 14ms/step - loss: 0.6372 - acc: 0.6273 - val_loss: 0.5248 - val_acc: 0.8461\n",
      "Epoch 2/7\n",
      "30/30 [==============================] - 0s 6ms/step - loss: 0.5129 - acc: 0.7655 - val_loss: 0.4037 - val_acc: 0.8743\n",
      "Epoch 3/7\n",
      "30/30 [==============================] - 0s 5ms/step - loss: 0.4284 - acc: 0.8214 - val_loss: 0.3375 - val_acc: 0.8807\n",
      "Epoch 4/7\n",
      "30/30 [==============================] - 0s 5ms/step - loss: 0.3679 - acc: 0.8569 - val_loss: 0.3194 - val_acc: 0.8757\n",
      "Epoch 5/7\n",
      "30/30 [==============================] - 0s 5ms/step - loss: 0.3181 - acc: 0.8879 - val_loss: 0.2814 - val_acc: 0.8900\n",
      "Epoch 6/7\n",
      "30/30 [==============================] - 0s 5ms/step - loss: 0.2822 - acc: 0.9043 - val_loss: 0.2774 - val_acc: 0.8901\n",
      "Epoch 7/7\n",
      "30/30 [==============================] - 0s 5ms/step - loss: 0.2493 - acc: 0.9182 - val_loss: 0.2911 - val_acc: 0.8846\n"
     ]
    }
   ],
   "source": [
    "fit_data = {\n",
    "    \"x\": part_x_train,\n",
    "    \"y\": part_y_train,\n",
    "    \"epochs\": 7,\n",
    "    \"batch_size\": 512,\n",
    "    \"validation_data\": (val_x_train, val_y_train)\n",
    "}\n",
    "\n",
    "history = model.fit(**fit_data)"
   ]
  },
  {
   "cell_type": "markdown",
   "id": "97b9920b",
   "metadata": {},
   "source": [
    "#### Training and validation loss"
   ]
  },
  {
   "cell_type": "code",
   "execution_count": 19,
   "id": "e7c112f8",
   "metadata": {},
   "outputs": [
    {
     "data": {
      "image/png": "[encoded data removed]",
      "text/plain": [
       "<Figure size 640x480 with 1 Axes>"
      ]
     },
     "metadata": {},
     "output_type": "display_data"
    }
   ],
   "source": [
    "plt.plot(history.history[\"loss\"], \"bo\", label=\"Training loss\")\n",
    "plt.plot(history.history[\"val_loss\"], \"b\", label=\"Validation loss\")\n",
    "plt.title(\"Training and validation loss\")\n",
    "plt.xlabel(\"Epochs\")\n",
    "plt.ylabel(\"Loss\")\n",
    "plt.legend()\n",
    "plt.show()"
   ]
  },
  {
   "cell_type": "markdown",
   "id": "e538f42e",
   "metadata": {},
   "source": [
    "#### Training and validation accurracy"
   ]
  },
  {
   "cell_type": "code",
   "execution_count": 23,
   "id": "257e4798",
   "metadata": {},
   "outputs": [
    {
     "data": {
      "image/png": "[encoded data removed]",
      "text/plain": [
       "<Figure size 640x480 with 1 Axes>"
      ]
     },
     "metadata": {},
     "output_type": "display_data"
    }
   ],
   "source": [
    "plt.plot(history.history[\"acc\"], \"bo\", label=\"Training accurracy\")\n",
    "plt.plot(history.history[\"val_acc\"], \"b\", label=\"Validation accurracy\")\n",
    "plt.title(\"Training and validation accuracy\")\n",
    "plt.xlabel(\"Epochs\")\n",
    "plt.ylabel(\"Accuracy\")\n",
    "plt.legend()\n",
    "plt.show()"
   ]
  },
  {
   "cell_type": "markdown",
   "id": "ec3d09f7",
   "metadata": {},
   "source": [
    "#### Test Loss and Accuracy"
   ]
  },
  {
   "cell_type": "code",
   "execution_count": 25,
   "id": "83228bc1",
   "metadata": {},
   "outputs": [
    {
     "name": "stdout",
     "output_type": "stream",
     "text": [
      "782/782 [==============================] - 0s 557us/step - loss: 0.3075 - acc: 0.8790\n",
      "Loss value: 0.31\n",
      "Accuracy value: 87.9 %\n"
     ]
    }
   ],
   "source": [
    "results = model.evaluate(x_test, y_test)\n",
    "print(f\"Loss value: {round(results[0], 2)}\")\n",
    "print(f\"Accuracy value: {round(results[1], 4) * 100} %\")"
   ]
  }
 ],
 "metadata": {
  "kernelspec": {
   "display_name": "Python 3 (ipykernel)",
   "language": "python",
   "name": "python3"
  },
  "language_info": {
   "codemirror_mode": {
    "name": "ipython",
    "version": 3
   },
   "file_extension": ".py",
   "mimetype": "text/x-python",
   "name": "python",
   "nbconvert_exporter": "python",
   "pygments_lexer": "ipython3",
   "version": "3.10.6"
  }
 },
 "nbformat": 4,
 "nbformat_minor": 5
}
