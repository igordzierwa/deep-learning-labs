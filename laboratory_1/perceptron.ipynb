{
 "cells": [
  {
   "cell_type": "markdown",
   "id": "716c4050",
   "metadata": {},
   "source": [
    "## Author: Igor Dzierwa\n",
    "## Laboratory 1 - Write the code for a simple perceptron\n",
    "\n",
    "You have a function named “train”for training the perceptron. \n",
    "\n",
    "In this function you go through a specified number of iterations (epochs):\n",
    "\n",
    "First calculate the accuracy for the whole dataset using afunctionnamed “accuracy”.\n",
    "\n",
    "If accuracy is less than ‘1’:\n",
    "\n",
    "For each data in the dataset:\n",
    "\n",
    "- Afunction named “predict”is called to predict the output for each data.\n",
    "\n",
    "- Calculate the errorbased on this prediction.\n",
    "\n",
    "- Update allweights.This is our dataset and the initial weights and bias:\n",
    "\n",
    "```Python\n",
    "data=[[0.08,0.72,1.0],[0.01,1.00,0.0],[0.26,0.58,1.0],[0.35,0.95,0.0],[0.45,0.15,1.0],[0.60,0.30,1.0],[0.70,0.65,0.0],[0.92,0.45,0.0]]\n",
    "\n",
    "weights=[1.00,-1.00]\n",
    "\n",
    "bias = 0.20\n",
    "```"
   ]
  },
  {
   "cell_type": "markdown",
   "id": "296169a0",
   "metadata": {},
   "source": [
    "#### Implementation of the Perceptron model:\n",
    "- `predict` - calculating the row value based on the weights\n",
    "- `train` - perceptron model training\n",
    "- `accuraccy` - calculating the accurracy based on the actual and predicted value in the whole set"
   ]
  },
  {
   "cell_type": "code",
   "execution_count": 114,
   "id": "bd287bd3",
   "metadata": {},
   "outputs": [],
   "source": [
    "import random\n",
    "\n",
    "def predict(row, weights):\n",
    "    activation_val = weights[0]\n",
    "    for i in range(len(row) - 1):\n",
    "        activation_val += weights[i + 1] * row[i]\n",
    "        \n",
    "    predicted_val = 1.0 if activation_val >= 0.0 else 0.0\n",
    "    \n",
    "    return predicted_val\n",
    " \n",
    "def train(data_set, learning_rate=0.01, epoch_count=1000, initial_weights=None):\n",
    "    weights = [random.uniform(-0.5, 0.5) for i in data_set[0]] if not initial_weights else initial_weights\n",
    "    \n",
    "    print(f\"Perceptron parameters:\\nEpochs: {epoch_count}\\nLearning Rate: {learning_rate}\\nInitial weights: {weights}\\n\")\n",
    "    \n",
    "    for epoch in range(epoch_count):\n",
    "        for row in data_set:\n",
    "            predicted = predict(row, weights)\n",
    "            error = row[-1] - predicted\n",
    "            weights[0] = weights[0] + (learning_rate * error)\n",
    "            for i in range(len(row) - 1):\n",
    "                weights[i + 1] = weights[i + 1] + (learning_rate * error * row[i])\n",
    "                \n",
    "    print(f\"Perceptron output:\\nBIAS - {weights[0]}\\nweights - {weights[1:]}\\n\")\n",
    "                \n",
    "    return weights\n",
    "\n",
    "def accurracy(data, weights):\n",
    "    correct_predictions = 0\n",
    "    for row in data:\n",
    "        predicted = predict(row, weights)\n",
    "        print(f\"Expected value: {row[-1]}, Predicted value: {predicted}\")\n",
    "        if row[-1] == predicted:\n",
    "            correct_predictions += 1\n",
    "    print(f\"Accurracy: {correct_predictions / float(len(data))}\\n\")"
   ]
  },
  {
   "cell_type": "markdown",
   "id": "6a3a7fc7",
   "metadata": {},
   "source": [
    "#### Initial values and accurracy"
   ]
  },
  {
   "cell_type": "code",
   "execution_count": 115,
   "id": "5f5cee7c",
   "metadata": {},
   "outputs": [
    {
     "name": "stdout",
     "output_type": "stream",
     "text": [
      "Initial accurracy:\n",
      "Expected value: 1.0, Predicted value: 0.0\n",
      "Expected value: 0.0, Predicted value: 0.0\n",
      "Expected value: 1.0, Predicted value: 0.0\n",
      "Expected value: 0.0, Predicted value: 0.0\n",
      "Expected value: 1.0, Predicted value: 1.0\n",
      "Expected value: 1.0, Predicted value: 1.0\n",
      "Expected value: 0.0, Predicted value: 1.0\n",
      "Expected value: 0.0, Predicted value: 1.0\n",
      "Accurracy: 0.5\n",
      "\n"
     ]
    }
   ],
   "source": [
    "data=[\n",
    "    [0.08,0.72,1.0],\n",
    "    [0.01,1.00,0.0],\n",
    "    [0.26,0.58,1.0],\n",
    "    [0.35,0.95,0.0],\n",
    "    [0.45,0.15,1.0],\n",
    "    [0.60,0.30,1.0],\n",
    "    [0.70,0.65,0.0],\n",
    "    [0.92,0.45,0.0]\n",
    "]\n",
    "\n",
    "initial_weights = [0.20, 1.00, -1.00]\n",
    "print(\"Initial accurracy:\")\n",
    "accurracy(data, initial_weights)"
   ]
  },
  {
   "cell_type": "markdown",
   "id": "205a0403",
   "metadata": {},
   "source": [
    "#### Trained perceptron and accurracy"
   ]
  },
  {
   "cell_type": "code",
   "execution_count": 116,
   "id": "2bcd4825",
   "metadata": {},
   "outputs": [
    {
     "name": "stdout",
     "output_type": "stream",
     "text": [
      "Perceptron parameters:\n",
      "Epochs: 5000\n",
      "Learning Rate: 0.01\n",
      "Initial weights: [0.2, 1.0, -1.0]\n",
      "\n",
      "Perceptron output:\n",
      "BIAS - 0.4400000000000002\n",
      "weights - [-0.19239999999999705, -0.5894999999999905]\n",
      "\n",
      "Accurracy after fitting the Perceptron model:\n",
      "Expected value: 1.0, Predicted value: 1.0\n",
      "Expected value: 0.0, Predicted value: 0.0\n",
      "Expected value: 1.0, Predicted value: 1.0\n",
      "Expected value: 0.0, Predicted value: 0.0\n",
      "Expected value: 1.0, Predicted value: 1.0\n",
      "Expected value: 1.0, Predicted value: 1.0\n",
      "Expected value: 0.0, Predicted value: 0.0\n",
      "Expected value: 0.0, Predicted value: 0.0\n",
      "Accurracy: 1.0\n",
      "\n"
     ]
    }
   ],
   "source": [
    "weights = train(data, 0.01, 5000, initial_weights)\n",
    "print(\"Accurracy after fitting the Perceptron model:\")\n",
    "accurracy(data, weights)"
   ]
  }
 ],
 "metadata": {
  "kernelspec": {
   "display_name": "Python 3 (ipykernel)",
   "language": "python",
   "name": "python3"
  },
  "language_info": {
   "codemirror_mode": {
    "name": "ipython",
    "version": 3
   },
   "file_extension": ".py",
   "mimetype": "text/x-python",
   "name": "python",
   "nbconvert_exporter": "python",
   "pygments_lexer": "ipython3",
   "version": "3.10.6"
  }
 },
 "nbformat": 4,
 "nbformat_minor": 5
}
