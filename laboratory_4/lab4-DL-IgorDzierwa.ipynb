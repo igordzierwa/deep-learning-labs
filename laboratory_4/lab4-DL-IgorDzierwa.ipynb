{
 "cells": [
  {
   "cell_type": "markdown",
   "id": "19d62423",
   "metadata": {},
   "source": [
    "## Author: Igor Dzierwa\n",
    "## Laboratory 4 - Implementation of a two-layer neural network using three different optimization methods: SGD, minibatch SGD, and GD for iris dataset.\n",
    "\n",
    "This laboratory is almost the same as laboratory No. 3, except this time we will use **iris dataset** for training and testing the model and trying all three different optimization methods: \n",
    "\n",
    "- SGD\n",
    "- minibatch SGD\n",
    "- GD\n",
    "\n",
    "The architecture of our neural network is as follows:\n",
    "\n",
    "- Input layer\n",
    "- One hidden layer\n",
    "- Output layer (one-hot encoding)\n",
    "- Relu activation function for the hidden layer\n",
    "- Softmax activation for the output layer\n",
    "\n",
    "We have a dataset of different types of iris flower. This is a famous dataset containing 3 classes of 50 instances each. You are asked to write a neural network code to classify a sample in the correct class. So we have a classification task. Here is the link to the dataset:\n",
    "\n",
    "- https://archive.ics.uci.edu/ml/datasets/iris"
   ]
  },
  {
   "cell_type": "code",
   "execution_count": null,
   "id": "e152f360",
   "metadata": {},
   "outputs": [],
   "source": []
  }
 ],
 "metadata": {
  "kernelspec": {
   "display_name": "Python 3 (ipykernel)",
   "language": "python",
   "name": "python3"
  },
  "language_info": {
   "codemirror_mode": {
    "name": "ipython",
    "version": 3
   },
   "file_extension": ".py",
   "mimetype": "text/x-python",
   "name": "python",
   "nbconvert_exporter": "python",
   "pygments_lexer": "ipython3",
   "version": "3.10.6"
  }
 },
 "nbformat": 4,
 "nbformat_minor": 5
}
